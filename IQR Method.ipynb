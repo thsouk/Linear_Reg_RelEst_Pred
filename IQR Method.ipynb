{
 "cells": [
  {
   "cell_type": "code",
   "execution_count": null,
   "id": "ff7538d1",
   "metadata": {},
   "outputs": [],
   "source": [
    "# Examine the price column for outliers\n",
    "# We will use the Interquartile Range (IQR)\n",
    "# ----------------------------------------------------------------------------------------------- #\n",
    "# Step 1: Sort data in ascending order\n",
    "# Step 2: Identify the first and third quartiles, Q1 and Q3 respectively\n",
    "# Step 3: Calculate IQR. IQR = Q3 - Q1\n",
    "# Step 4: Calculate your upper fence = Q3 + (1.5 * IQR)\n",
    "# Step 5  Calculate your lower fence = Q1 – (1.5 * IQR)\n",
    "# Step 6: Use your fences to highlight any outliers, all values that fall outside your fences.\n",
    "# ----------------------------------------------------------------------------------------------- #\n",
    "\n",
    "def IQR_stndrd_implementation(dataframe, dataframe_col1):\n",
    "\n",
    "    my_plot_func(dataframe_col1, action = 'histogram')\n",
    "\n",
    "#     houses = pd.read_csv(\"C:\\\\Users\\\\HA432CU\\\\Machine Learning\\\\Linear Regression\\\\Housing.csv\")\n",
    "    print(dataframe.shape)\n",
    "    \n",
    "    # Step 1: Sort data in ascending order\n",
    "    sorted_col = np.array(sorted(dataframe_col1, reverse = False))\n",
    "    \n",
    "    # Step 2: Identify the first and third quartiles, Q1 and Q3 respectively\n",
    "    sorted_percentiles = np.percentile(sorted_col, [25, 50, 75])\n",
    "#     print(prices_sorted_percentiles)\n",
    "    \n",
    "    Q1 = sorted_percentiles[0]\n",
    "#     print(Q1_prices)\n",
    "    Q3 = sorted_percentiles[2]\n",
    "#     print(Q3_prices)\n",
    "    \n",
    "    # Step 3: Calculate IQR. IQR = Q3 - Q1\n",
    "    IQR = Q3 - Q1\n",
    "#     print(IQR_prices)\n",
    "    \n",
    "    # Step 4: Calculate your upper fence = Q3 + (1.5 * IQR)\n",
    "    upper_limit = Q3 + (1.5 * IQR)\n",
    "#     print(upper_limit_prices)\n",
    "    \n",
    "    # Step 5  Calculate your lower fence = Q1 – (1.5 * IQR)\n",
    "    lower_limit = Q1 - (1.5 * IQR)\n",
    "#     print(lower_limit_prices)\n",
    "    \n",
    "    # Step 6: Use your fences to highlight any outliers, all values that fall outside your fences\n",
    "    new_dataframe = dataframe[(dataframe_col1 <= upper_limit) & (dataframe_col1 >= lower_limit)]\n",
    "    new_dataframe_col1 = new_dataframe[dataframe_col1.name] \n",
    "    \n",
    "    dict_IQR_stndrd_implementation = {'Q1':Q1\n",
    "                                     ,'Q3':Q3\n",
    "                                     ,'IQR':IQR\n",
    "                                     ,'upper_limit':upper_limit\n",
    "                                     ,'lower_limit':lower_limit\n",
    "                                     }\n",
    "    \n",
    "    return  new_dataframe.shape, new_dataframe.head(), dict_IQR_stndrd_implementation, my_plot_func(new_dataframe_col1, action = 'histogram') "
   ]
  }
 ],
 "metadata": {
  "kernelspec": {
   "display_name": "Python 3 (ipykernel)",
   "language": "python",
   "name": "python3"
  },
  "language_info": {
   "codemirror_mode": {
    "name": "ipython",
    "version": 3
   },
   "file_extension": ".py",
   "mimetype": "text/x-python",
   "name": "python",
   "nbconvert_exporter": "python",
   "pygments_lexer": "ipython3",
   "version": "3.9.13"
  }
 },
 "nbformat": 4,
 "nbformat_minor": 5
}
